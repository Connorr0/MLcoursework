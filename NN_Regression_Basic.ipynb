{
 "cells": [
  {
   "cell_type": "markdown",
   "metadata": {},
   "source": [
    "# Regression with Deep Neural Networks"
   ]
  },
  {
   "cell_type": "markdown",
   "metadata": {},
   "source": [
    "## Setup"
   ]
  },
  {
   "cell_type": "markdown",
   "metadata": {},
   "source": [
    "First, let's make sure this notebook works well in both python 2 and 3, import a few common modules, ensure MatplotLib plots figures inline and prepare a function to save the figures:\n",
    "\n",
    "# Note this preceding portion is not my code"
   ]
  },
  {
   "cell_type": "code",
   "execution_count": 25,
   "metadata": {},
   "outputs": [],
   "source": [
    "# Common imports\n",
    "import numpy as np\n",
    "import os\n",
    "\n",
    "# to make this notebook's output stable across runs\n",
    "def reset_graph(seed=42):\n",
    "    tf.reset_default_graph()\n",
    "    tf.set_random_seed(seed)\n",
    "    np.random.seed(seed)\n",
    "\n",
    "# To plot pretty figures\n",
    "%matplotlib inline\n",
    "import matplotlib\n",
    "import matplotlib.pyplot as plt\n",
    "plt.rcParams['axes.labelsize'] = 14\n",
    "plt.rcParams['xtick.labelsize'] = 12\n",
    "plt.rcParams['ytick.labelsize'] = 12\n",
    "\n",
    "# Where to save the figures\n",
    "PROJECT_ROOT_DIR = \".\"\n",
    "CHAPTER_ID = \"ann\"\n",
    "\n",
    "def save_fig(fig_id, tight_layout=True):\n",
    "    path = os.path.join(PROJECT_ROOT_DIR, \"images\", CHAPTER_ID, fig_id + \".png\")\n",
    "    print(\"Saving figure\", fig_id)\n",
    "    if tight_layout:\n",
    "        plt.tight_layout()\n",
    "    plt.savefig(path, format='png', dpi=300)"
   ]
  },
  {
   "cell_type": "code",
   "execution_count": 26,
   "metadata": {},
   "outputs": [],
   "source": [
    "import tensorflow as tf"
   ]
  },
  {
   "cell_type": "markdown",
   "metadata": {},
   "source": [
    "## Create Data"
   ]
  },
  {
   "cell_type": "code",
   "execution_count": 27,
   "metadata": {},
   "outputs": [],
   "source": [
    "# generate x's, y's for function w/ domain [1..10]\n",
    "x_s = np.linspace(0,10,1000)\n",
    "y_s = -1*(np.sin(2*x_s) + x_s**1.2 - x_s**1.25 + np.cos(3*x_s))\n",
    "# normalize y's to range [0..1]\n",
    "y_s = (y_s - np.min(y_s))/(np.max(y_s) - np.min(y_s))"
   ]
  },
  {
   "cell_type": "code",
   "execution_count": 28,
   "metadata": {
    "scrolled": true
   },
   "outputs": [
    {
     "data": {
      "text/plain": [
       "[<matplotlib.lines.Line2D at 0x216550345f8>]"
      ]
     },
     "execution_count": 28,
     "metadata": {},
     "output_type": "execute_result"
    },
    {
     "data": {
      "image/png": "[encoded data removed]",
      "text/plain": [
       "<Figure size 432x288 with 1 Axes>"
      ]
     },
     "metadata": {
      "needs_background": "light"
     },
     "output_type": "display_data"
    }
   ],
   "source": [
    "plt.plot(x_s,y_s,'b')"
   ]
  },
  {
   "cell_type": "code",
   "execution_count": 29,
   "metadata": {},
   "outputs": [
    {
     "name": "stdout",
     "output_type": "stream",
     "text": [
      "(1000,)\n",
      "(1000, 1)\n",
      "(1000,)\n"
     ]
    },
    {
     "data": {
      "text/plain": [
       "[<matplotlib.lines.Line2D at 0x216550c8278>]"
      ]
     },
     "execution_count": 29,
     "metadata": {},
     "output_type": "execute_result"
    },
    {
     "data": {
      "image/png": "[encoded data removed]",
      "text/plain": [
       "<Figure size 432x288 with 1 Axes>"
      ]
     },
     "metadata": {
      "needs_background": "light"
     },
     "output_type": "display_data"
    }
   ],
   "source": [
    "print(x_s.shape)\n",
    "# make x_s into a column vector for TF\n",
    "x_s = np.reshape(x_s,[-1,1])\n",
    "# shuffle - then split into train and test\n",
    "rnd_inds = np.arange(len(x_s))\n",
    "np.random.shuffle(rnd_inds)\n",
    "print(x_s.shape)\n",
    "print(y_s.shape)\n",
    "# print(rnd_inds)\n",
    "x_s = x_s[rnd_inds,:]\n",
    "y_s = y_s[rnd_inds]\n",
    "X_train = x_s[:900]\n",
    "y_train = y_s[:900]\n",
    "X_test = x_s[900:]\n",
    "y_test = y_s[900:]\n",
    "\n",
    "plt.plot(X_train,y_train,'r.')\n",
    "plt.plot(X_test,y_test,'bs')\n"
   ]
  },
  {
   "cell_type": "code",
   "execution_count": 30,
   "metadata": {},
   "outputs": [],
   "source": [
    "# take validation set from training data\n",
    "X_valid, X_train = X_train[:100], X_train[100:]\n",
    "y_valid, y_train = y_train[:100], y_train[100:]"
   ]
  },
  {
   "cell_type": "code",
   "execution_count": null,
   "metadata": {},
   "outputs": [],
   "source": [
    "plt.plot(X_train,y_train,'r.')\n",
    "plt.plot(X_valid,y_valid,'gd')"
   ]
  },
  {
   "cell_type": "markdown",
   "metadata": {},
   "source": [
    "## Neural Network"
   ]
  },
  {
   "cell_type": "code",
   "execution_count": null,
   "metadata": {},
   "outputs": [],
   "source": [
    "num_epochs = int(1e6)\n",
    "batch_size = 1 # NOTE: ONLY SEEMS TO WORK W/ BATCH SIZE 1\n",
    "\n",
    "n_inputs = 1\n",
    "n_outputs = 1\n",
    "num_nodes_l1 = 10 # 100 doesn't matter\n",
    "num_nodes_l2 = 10"
   ]
  },
  {
   "cell_type": "code",
   "execution_count": null,
   "metadata": {},
   "outputs": [],
   "source": [
    "xs = tf.placeholder(tf.float32, shape=(None, n_inputs), name=\"X\")\n",
    "ys = tf.placeholder(tf.float32, shape=(None), name=\"y\") "
   ]
  },
  {
   "cell_type": "code",
   "execution_count": null,
   "metadata": {},
   "outputs": [],
   "source": [
    "hidden1 = tf.layers.dense(xs, num_nodes_l1, name=\"hidden1\",\n",
    "                              activation=tf.nn.relu)\n",
    "hidden2 = tf.layers.dense(hidden1, num_nodes_l2, name=\"hidden2\",\n",
    "                              activation=tf.nn.relu)\n",
    "outputs = tf.layers.dense(hidden2, n_outputs, name=\"outputs\")"
   ]
  },
  {
   "cell_type": "code",
   "execution_count": null,
   "metadata": {},
   "outputs": [],
   "source": [
    "cost = tf.reduce_mean(tf.square(outputs-ys))\n",
    "train = tf.train.AdamOptimizer(0.001).minimize(cost)"
   ]
  },
  {
   "cell_type": "code",
   "execution_count": null,
   "metadata": {},
   "outputs": [],
   "source": [
    "with tf.Session() as sess:\n",
    "    sess.run(tf.global_variables_initializer())\n",
    "    \n",
    "    for i in range(num_epochs):\n",
    "        # print out progress\n",
    "        if not(i%(10000)):\n",
    "            print(i)\n",
    "        # select random subsets of data to train on (aka batches)\n",
    "        rnd_idx = np.random.permutation(len(X_train))[:batch_size]\n",
    "        X_batch = X_train[rnd_idx]\n",
    "        y_batch = y_train[rnd_idx]\n",
    "        sess.run(train, feed_dict={xs: X_batch, ys: y_batch})\n",
    "        \n",
    "    # generate predicted output values for y\n",
    "    pred_ys = sess.run(outputs, feed_dict={xs:X_test})\n"
   ]
  },
  {
   "cell_type": "code",
   "execution_count": null,
   "metadata": {},
   "outputs": [],
   "source": [
    "plt.plot(X_test,y_test,'bd')\n",
    "plt.plot(X_test,pred_ys,'rd')"
   ]
  },
  {
   "cell_type": "markdown",
   "metadata": {},
   "source": [
    "## Now try your own 1-D function\n",
    "\n",
    "## My code starts here"
   ]
  },
  {
   "cell_type": "code",
   "execution_count": 31,
   "metadata": {},
   "outputs": [],
   "source": [
    "x_s2 = np.linspace(0,10,1000)\n",
    "y_s2 = -1*(np.sin(2*x_s2)**2 + x_s2**1.2 - x_s2**1.25 + np.cos(4.82*x_s2))**3\n",
    "# normalize y's to range [0..1]\n",
    "y_s2 = (y_s2 - np.min(y_s2))/(np.max(y_s2) - np.min(y_s2))"
   ]
  },
  {
   "cell_type": "code",
   "execution_count": 32,
   "metadata": {},
   "outputs": [
    {
     "data": {
      "text/plain": [
       "[<matplotlib.lines.Line2D at 0x21655160860>]"
      ]
     },
     "execution_count": 32,
     "metadata": {},
     "output_type": "execute_result"
    },
    {
     "data": {
      "image/png": "[encoded data removed]",
      "text/plain": [
       "<Figure size 432x288 with 1 Axes>"
      ]
     },
     "metadata": {
      "needs_background": "light"
     },
     "output_type": "display_data"
    }
   ],
   "source": [
    "plt.plot(x_s2,y_s2,'b')"
   ]
  },
  {
   "cell_type": "code",
   "execution_count": 33,
   "metadata": {},
   "outputs": [
    {
     "name": "stdout",
     "output_type": "stream",
     "text": [
      "(1000,)\n",
      "(1000, 1)\n",
      "(1000,)\n"
     ]
    },
    {
     "data": {
      "text/plain": [
       "[<matplotlib.lines.Line2D at 0x216551a2128>]"
      ]
     },
     "execution_count": 33,
     "metadata": {},
     "output_type": "execute_result"
    },
    {
     "data": {
      "image/png": "[encoded data removed]",
      "text/plain": [
       "<Figure size 432x288 with 1 Axes>"
      ]
     },
     "metadata": {
      "needs_background": "light"
     },
     "output_type": "display_data"
    }
   ],
   "source": [
    "print(x_s2.shape)\n",
    "# make x_s into a column vector for TF\n",
    "x_s2 = np.reshape(x_s2,[-1,1])\n",
    "# shuffle - then split into train and test\n",
    "rnd_inds = np.arange(len(x_s2))\n",
    "np.random.shuffle(rnd_inds)\n",
    "print(x_s2.shape)\n",
    "print(y_s2.shape)\n",
    "# print(rnd_inds)\n",
    "x_s2 = x_s2[rnd_inds,:]\n",
    "y_s2 = y_s2[rnd_inds]\n",
    "X_train2 = x_s2[:900]\n",
    "y_train2 = y_s2[:900]\n",
    "X_test2 = x_s2[900:]\n",
    "y_test2 = y_s2[900:]\n",
    "\n",
    "plt.plot(X_train2,y_train2,'r.')\n",
    "plt.plot(X_test2,y_test2,'bs')\n"
   ]
  },
  {
   "cell_type": "markdown",
   "metadata": {},
   "source": [
    "## Not great, too sparse on back"
   ]
  },
  {
   "cell_type": "code",
   "execution_count": 34,
   "metadata": {},
   "outputs": [
    {
     "data": {
      "text/plain": [
       "[<matplotlib.lines.Line2D at 0x216551258d0>]"
      ]
     },
     "execution_count": 34,
     "metadata": {},
     "output_type": "execute_result"
    },
    {
     "data": {
      "image/png": "[encoded data removed]",
      "text/plain": [
       "<Figure size 432x288 with 1 Axes>"
      ]
     },
     "metadata": {
      "needs_background": "light"
     },
     "output_type": "display_data"
    }
   ],
   "source": [
    "# take validation set from training data\n",
    "X_valid2, X_train2 = X_train2[:100], X_train2[100:]\n",
    "y_valid2, y_train2 = y_train2[:100], y_train2[100:]\n",
    "\n",
    "plt.plot(X_train2,y_train2,'r.')\n",
    "plt.plot(X_valid2,y_valid2,'gd')"
   ]
  },
  {
   "cell_type": "markdown",
   "metadata": {},
   "source": [
    "## Also try to modify training loop so you can plot loss values (not all million!)"
   ]
  },
  {
   "cell_type": "code",
   "execution_count": null,
   "metadata": {},
   "outputs": [],
   "source": [
    "loss_vs = []\n",
    "loop = []\n",
    "\n",
    "\n",
    "with tf.Session() as sess:\n",
    "    sess.run(tf.global_variables_initializer())\n",
    "    \n",
    "    for i in range(num_epochs):\n",
    "        # select random subsets of data to train on (aka batches)\n",
    "        rnd_idx = np.random.permutation(len(X_train2))[:batch_size]\n",
    "        X_batch = X_train2[rnd_idx]\n",
    "        y_batch = y_train2[rnd_idx]\n",
    "        _, loss = sess.run([train, cost], feed_dict={xs: X_batch, ys: y_batch})\n",
    "        \n",
    "        '''_, loss_val = sess.run([train_step, cross_entropy],\n",
    "                           feed_dict={x: batch_xs, y_: batch_ys})\n",
    "        '''\n",
    "        \n",
    "        # print out progress\n",
    "        if not(i%(10000)):\n",
    "            print(i/num_epochs, '%')\n",
    "            if i > 0:\n",
    "                loss_vs.append(loss)\n",
    "                loop.append(i)\n",
    "        \n",
    "    # generate predicted output values for y\n",
    "    pred_ys = sess.run(outputs, feed_dict={xs:X_test2})\n"
   ]
  },
  {
   "cell_type": "code",
   "execution_count": null,
   "metadata": {},
   "outputs": [],
   "source": [
    "plt.plot(loop,loss_vs,'b')"
   ]
  },
  {
   "cell_type": "code",
   "execution_count": null,
   "metadata": {},
   "outputs": [],
   "source": [
    "plt.plot(X_test2, y_test2,'bd')\n",
    "plt.plot(X_test2, pred_ys,'rd')"
   ]
  },
  {
   "cell_type": "markdown",
   "metadata": {},
   "source": [
    "## About as expected as spike gets high weight but low definition"
   ]
  },
  {
   "cell_type": "markdown",
   "metadata": {},
   "source": [
    "## Now try to modify code for 2-D input data (so y = f(x_1,x_2))"
   ]
  },
  {
   "cell_type": "code",
   "execution_count": 3,
   "metadata": {},
   "outputs": [
    {
     "name": "stdout",
     "output_type": "stream",
     "text": [
      ".. _boston_dataset:\n",
      "\n",
      "Boston house prices dataset\n",
      "---------------------------\n",
      "\n",
      "**Data Set Characteristics:**  \n",
      "\n",
      "    :Number of Instances: 506 \n",
      "\n",
      "    :Number of Attributes: 13 numeric/categorical predictive. Median Value (attribute 14) is usually the target.\n",
      "\n",
      "    :Attribute Information (in order):\n",
      "        - CRIM     per capita crime rate by town\n",
      "        - ZN       proportion of residential land zoned for lots over 25,000 sq.ft.\n",
      "        - INDUS    proportion of non-retail business acres per town\n",
      "        - CHAS     Charles River dummy variable (= 1 if tract bounds river; 0 otherwise)\n",
      "        - NOX      nitric oxides concentration (parts per 10 million)\n",
      "        - RM       average number of rooms per dwelling\n",
      "        - AGE      proportion of owner-occupied units built prior to 1940\n",
      "        - DIS      weighted distances to five Boston employment centres\n",
      "        - RAD      index of accessibility to radial highways\n",
      "        - TAX      full-value property-tax rate per $10,000\n",
      "        - PTRATIO  pupil-teacher ratio by town\n",
      "        - B        1000(Bk - 0.63)^2 where Bk is the proportion of blacks by town\n",
      "        - LSTAT    % lower status of the population\n",
      "        - MEDV     Median value of owner-occupied homes in $1000's\n",
      "\n",
      "    :Missing Attribute Values: None\n",
      "\n",
      "    :Creator: Harrison, D. and Rubinfeld, D.L.\n",
      "\n",
      "This is a copy of UCI ML housing dataset.\n",
      "https://archive.ics.uci.edu/ml/machine-learning-databases/housing/\n",
      "\n",
      "\n",
      "This dataset was taken from the StatLib library which is maintained at Carnegie Mellon University.\n",
      "\n",
      "The Boston house-price data of Harrison, D. and Rubinfeld, D.L. 'Hedonic\n",
      "prices and the demand for clean air', J. Environ. Economics & Management,\n",
      "vol.5, 81-102, 1978.   Used in Belsley, Kuh & Welsch, 'Regression diagnostics\n",
      "...', Wiley, 1980.   N.B. Various transformations are used in the table on\n",
      "pages 244-261 of the latter.\n",
      "\n",
      "The Boston house-price data has been used in many machine learning papers that address regression\n",
      "problems.   \n",
      "     \n",
      ".. topic:: References\n",
      "\n",
      "   - Belsley, Kuh & Welsch, 'Regression diagnostics: Identifying Influential Data and Sources of Collinearity', Wiley, 1980. 244-261.\n",
      "   - Quinlan,R. (1993). Combining Instance-Based and Model-Based Learning. In Proceedings on the Tenth International Conference of Machine Learning, 236-243, University of Massachusetts, Amherst. Morgan Kaufmann.\n",
      "\n"
     ]
    }
   ],
   "source": [
    "from sklearn.datasets import load_boston\n",
    "print(load_boston().DESCR)"
   ]
  },
  {
   "cell_type": "code",
   "execution_count": 20,
   "metadata": {},
   "outputs": [],
   "source": [
    "def nn(X , y, itr = 10**6, v = False, ninputs = 1, noutputs = 1):\n",
    "    \n",
    "    \"\"\"Using recomendation: In sum, for most problems, one could probably get decent performance (even without a second optimization step) by setting the hidden layer configuration using just two rules: (i) number of hidden layers equals one; and (ii) the number of neurons in that layer is the mean of the neurons in the input and output layers.\"\"\"\n",
    "    #clear graph\n",
    "    tf.reset_default_graph()\n",
    "    \n",
    "    #setting the hyperparameters\n",
    "    num_epochs = int(1e6)\n",
    "    batch_size = 1 # NOTE: ONLY SEEMS TO WORK W/ BATCH SIZE 1\n",
    "    n_inputs = ninputs\n",
    "    n_outputs = noutputs\n",
    "    \n",
    "    # layer 1\n",
    "    \n",
    "\n",
    "        \n",
    "        \n",
    "    # Does the data fit?\n",
    "    assert(X.shape[0] == y.shape[0])\n",
    "    \n",
    "    #add bias\n",
    "    \n",
    "    ##\n",
    "    \n",
    "    # Shuffle the data\n",
    "    rnd_inds = np.arange(X.shape[0])\n",
    "    np.random.shuffle(rnd_inds)\n",
    "    X = X[rnd_inds,:]\n",
    "    y = y[rnd_inds]\n",
    "    \n",
    "    if v == True:\n",
    "        print('X:', X.shape)\n",
    "        print('\\tX[0]:', X.shape[0])\n",
    "        print('\\tX[1]:', X.shape[1])\n",
    "        print('y:', y.shape)\n",
    "        print('\\ty[0]:', y.shape[0])\n",
    "    \n",
    "    train = int(y.shape[0]*.8)\n",
    "    test = int((y.shape[0] - train)/2)\n",
    "    print('train size:', y.shape[0]*.8)\n",
    "    print('test size:', test)\n",
    "    \n",
    "    \n",
    "    # Train test split\n",
    "    X_train = X[:train]\n",
    "    y_train = y[:train]\n",
    "    \n",
    "    \n",
    "    # Validation split\n",
    "    X_valid, X_test = X[train:train + test], X[train + test:]\n",
    "    y_valid, y_test = y[train:train + test], y[train + test:]\n",
    "    \n",
    "    \n",
    "    xs = tf.placeholder(tf.float32, shape=(None, X.shape[1]), name=\"X\")\n",
    "    ys = tf.placeholder(tf.float32, shape=(None), name=\"y\") \n",
    "    \n",
    "    \n",
    "    '''\n",
    "    #make layers\n",
    "    for n in range(neurons):\n",
    "        hidden = tf.layers.dense(xs, neurons[n], name=\"hidden\" + n,\n",
    "                              activation=tf.nn.relu)\n",
    "    '''\n",
    "    #for loss plot\n",
    "    loop =[]\n",
    "    loss_vals = []\n",
    "    #layer creation\n",
    "    input_L = tf.layers.dense(xs, X.shape[1], name=\"input\",\n",
    "                              activation=tf.nn.relu)\n",
    "    \n",
    "    mid1 = tf.layers.dense(input_L, (X.shape[1] + 1)/2,\n",
    "                              name=\"mid\", activation=tf.nn.relu)\n",
    "    \n",
    "    output = tf.layers.dense(mid1, n_outputs, name=\"output\")\n",
    "    \n",
    "    #cost fn and optimizer\n",
    "    cost = tf.reduce_mean(tf.square(output-ys))\n",
    "    train = tf.train.AdamOptimizer(0.001).minimize(cost)\n",
    "    \n",
    "    \n",
    "    \n",
    "    \n",
    "    \n",
    "    \n",
    "    #running the session\n",
    "    with tf.Session() as sess:\n",
    "        sess.run(tf.global_variables_initializer())\n",
    "\n",
    "        for i in range(num_epochs):\n",
    "            # select random subsets of data to train on (aka batches)\n",
    "            rnd_idx = np.random.permutation(len(X_train))[:batch_size]\n",
    "            X_batch = X_train[rnd_idx]\n",
    "\n",
    "            y_batch = y_train[rnd_idx]\n",
    "            _, loss = sess.run([train, cost], feed_dict={xs: X_batch, ys: y_batch})\n",
    "\n",
    "            # print out progress\n",
    "            if not(i%(10000)):\n",
    "                #print(X_batch)\n",
    "                print(i/num_epochs*100, '%')\n",
    "                if i > 0:\n",
    "                    loss_vals.append(loss)\n",
    "                    loop.append(i)\n",
    " \n",
    "        # generate predicted output values for y\n",
    "        pred_ys = sess.run(output, feed_dict={xs:X_test})\n",
    "        \n",
    "        \n",
    "        \n",
    "        return pred_ys, y_test, loss_vals, loop\n",
    "\n",
    "\n",
    "         "
   ]
  },
  {
   "cell_type": "markdown",
   "metadata": {},
   "source": [
    "## Loss within training data"
   ]
  },
  {
   "cell_type": "code",
   "execution_count": 7,
   "metadata": {},
   "outputs": [
    {
     "data": {
      "text/plain": [
       "[<matplotlib.lines.Line2D at 0x19d1ffcc5f8>]"
      ]
     },
     "execution_count": 7,
     "metadata": {},
     "output_type": "execute_result"
    },
    {
     "data": {
      "image/png": "[encoded data removed]",
      "text/plain": [
       "<Figure size 432x288 with 1 Axes>"
      ]
     },
     "metadata": {
      "needs_background": "light"
     },
     "output_type": "display_data"
    }
   ],
   "source": [
    "out = nn(load_boston().data, load_boston().target, itr = 10**6, v = True, ninputs = 1, noutputs = 1)\n",
    "b n "
   ]
  },
  {
   "cell_type": "code",
   "execution_count": 10,
   "metadata": {},
   "outputs": [
    {
     "data": {
      "text/plain": [
       "8.132028812284938"
      ]
     },
     "execution_count": 10,
     "metadata": {},
     "output_type": "execute_result"
    }
   ],
   "source": [
    "from sklearn.metrics import mean_squared_error as MSE\n",
    "\n",
    "MSE(out[0], out[1])"
   ]
  },
  {
   "cell_type": "markdown",
   "metadata": {},
   "source": [
    "## This could be improved"
   ]
  },
  {
   "cell_type": "code",
   "execution_count": null,
   "metadata": {},
   "outputs": [],
   "source": []
  }
 ],
 "metadata": {
  "kernelspec": {
   "display_name": "Python 3",
   "language": "python",
   "name": "python3"
  },
  "language_info": {
   "codemirror_mode": {
    "name": "ipython",
    "version": 3
   },
   "file_extension": ".py",
   "mimetype": "text/x-python",
   "name": "python",
   "nbconvert_exporter": "python",
   "pygments_lexer": "ipython3",
   "version": "3.7.3"
  },
  "nav_menu": {
   "height": "264px",
   "width": "369px"
  },
  "toc": {
   "navigate_menu": true,
   "number_sections": true,
   "sideBar": true,
   "threshold": 6,
   "toc_cell": false,
   "toc_section_display": "block",
   "toc_window_display": false
  }
 },
 "nbformat": 4,
 "nbformat_minor": 1
}
